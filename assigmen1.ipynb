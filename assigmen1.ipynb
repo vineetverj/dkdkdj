{
 "cells": [
  {
   "cell_type": "code",
   "execution_count": 1,
   "id": "83f30ad5-7070-44e4-b196-d225ccf448d4",
   "metadata": {},
   "outputs": [],
   "source": [
    "Q1.Declare two variables, `x` and `y`, and assign them integer values.\n",
    "Swap the values of these variables without using any temporary\n",
    "variable"
   ]
  },
  {
   "cell_type": "code",
   "execution_count": 2,
   "id": "f771b838-68d3-43b8-a390-56f7d1aab32e",
   "metadata": {},
   "outputs": [
    {
     "name": "stdout",
     "output_type": "stream",
     "text": [
      "Elements before swapping: 10 20\n",
      "After swapping: 20 10\n"
     ]
    }
   ],
   "source": [
    "a = 10  # Create an integer variable 'a' with a value of 10\n",
    "b = 20  # Create an integer variable 'b' with a value of 20\n",
    "\n",
    "# Print the elements before swapping\n",
    "print(\"Elements before swapping:\", a, b)\n",
    "\n",
    "# Swapping using arithmetic operations\n",
    "a = a + b  # Add the values of 'a' and 'b', and store the result in 'a'\n",
    "# Now, 'a' becomes 30 (10 + 20)\n",
    "\n",
    "b = a - b  # Subtract the value of 'b' from the new value of 'a', and store the result in 'b'\n",
    "# Now, 'b' becomes 10 (30 - 20), and 'a' is still 30\n",
    "\n",
    "a = a - b  # Subtract the value of 'b' from the new value of 'a', and store the result in 'a'\n",
    "# Now, 'a' becomes 20 (30 - 10), and 'b' is 10\n",
    "\n",
    "# Print the elements after swapping\n",
    "print(\"After swapping:\", a, b)"
   ]
  },
  {
   "cell_type": "code",
   "execution_count": 4,
   "id": "caebe28e-e70d-409d-b8f4-725a63b4bf74",
   "metadata": {},
   "outputs": [],
   "source": [
    "\n",
    "Q2.Create a program that calculates the area of a rectangle. Take the\n",
    "length and width as inputs from the user and store them in variables.\n",
    "Calculate and display the area."
   ]
  },
  {
   "cell_type": "code",
   "execution_count": 5,
   "id": "18aec508-12db-4953-b7c3-44b9a4a3b05b",
   "metadata": {},
   "outputs": [
    {
     "name": "stdin",
     "output_type": "stream",
     "text": [
      "Enter the length:  4\n",
      "Enter the breadth:  5\n"
     ]
    },
    {
     "name": "stdout",
     "output_type": "stream",
     "text": [
      "Area: 20\n"
     ]
    }
   ],
   "source": [
    "# Prompt the user to enter the length of a rectangle and convert the input to an integer.\n",
    "length = int(input(\"Enter the length: \"))\n",
    "\n",
    "# Prompt the user to enter the breadth (width) of the rectangle and convert the input to an integer.\n",
    "breadth = int(input(\"Enter the breadth: \"))\n",
    "\n",
    "# Calculate the area of the rectangle by multiplying the length and breadth.\n",
    "result = length * breadth\n",
    "\n",
    "# Print the calculated area.\n",
    "print(\"Area:\", result)"
   ]
  },
  {
   "cell_type": "code",
   "execution_count": 6,
   "id": "fb2a3452-af32-4f0c-ae2d-a5cb20c39c04",
   "metadata": {},
   "outputs": [],
   "source": [
    "Q3. Write a Python program that converts temperature from Celsius to\n",
    "Fahrenheit. Take the temperature in Celsius as input, store it in a\n",
    "variable, convert it to Fahrenheit, and display the result."
   ]
  },
  {
   "cell_type": "code",
   "execution_count": 7,
   "id": "fe029d25-9189-4a20-84d6-9541a5feafe4",
   "metadata": {},
   "outputs": [
    {
     "name": "stdin",
     "output_type": "stream",
     "text": [
      "Enter the temperature in Celsius:  45\n"
     ]
    },
    {
     "name": "stdout",
     "output_type": "stream",
     "text": [
      "Temperature in Fahrenheit: 113.0\n"
     ]
    }
   ],
   "source": [
    "# Prompt the user to enter the temperature in Celsius and convert the input to a floating-point number.\n",
    "Celsius = float(input(\"Enter the temperature in Celsius: \"))\n",
    "\n",
    "# Calculate the temperature in Fahrenheit using the formula: (Celsius * 9/5) + 32\n",
    "# The formula converts Celsius to Fahrenheit.\n",
    "result = (Celsius * 9/5) + 32\n",
    "\n",
    "# Print the converted temperature in Fahrenheit.\n",
    "print(\"Temperature in Fahrenheit:\", result)"
   ]
  },
  {
   "cell_type": "code",
   "execution_count": 8,
   "id": "00d66008-2be3-40dd-bf58-cc4e884e61fb",
   "metadata": {},
   "outputs": [],
   "source": [
    "Q.4 Write a Python program that takes a string as input and prints the\n",
    "length of the string."
   ]
  },
  {
   "cell_type": "code",
   "execution_count": 9,
   "id": "27365df1-47c0-47d4-bf7f-c0c3b9099f0a",
   "metadata": {},
   "outputs": [
    {
     "name": "stdin",
     "output_type": "stream",
     "text": [
      "Enter a string:  pwskills\n"
     ]
    },
    {
     "name": "stdout",
     "output_type": "stream",
     "text": [
      "Length of the string: 8\n"
     ]
    }
   ],
   "source": [
    "# Get input from the user\n",
    "input_string = input(\"Enter a string: \")\n",
    "\n",
    "# Calculate the length of the input string\n",
    "string_length = len(input_string)\n",
    "\n",
    "# Print the length of the string\n",
    "print(\"Length of the string:\", string_length)\n"
   ]
  },
  {
   "cell_type": "code",
   "execution_count": 10,
   "id": "83df6a2f-5e90-4235-aa77-8ce271eae4c6",
   "metadata": {},
   "outputs": [],
   "source": [
    "Q.5. Create a program that takes a sentence from the user and counts the\n",
    "number of vowels (a, e, i, o, u) in the string."
   ]
  },
  {
   "cell_type": "code",
   "execution_count": 11,
   "id": "fe4e48b3-b6a0-429c-bdb5-b2c017856376",
   "metadata": {},
   "outputs": [
    {
     "name": "stdin",
     "output_type": "stream",
     "text": [
      "Enter a sentence:  pwskills\n"
     ]
    },
    {
     "name": "stdout",
     "output_type": "stream",
     "text": [
      "Number of vowels: 1\n"
     ]
    }
   ],
   "source": [
    "# Define a string containing all the vowels (both lowercase and uppercase).\n",
    "vowels = \"aeiouAEIOU\"\n",
    "\n",
    "# Prompt the user to enter a sentence.\n",
    "user_input = input(\"Enter a sentence: \")\n",
    "\n",
    "# Initialize a counter to keep track of the number of vowels.\n",
    "vowel_count = 0\n",
    "\n",
    "# Iterate through each character in the user's input.\n",
    "for char in user_input:\n",
    "    # Check if the current character is a vowel by comparing it to the 'vowels' string.\n",
    "    if char in vowels:\n",
    "        # If the character is a vowel, increment the vowel count.\n",
    "        vowel_count += 1\n",
    "\n",
    "# Print the total count of vowels in the input sentence.\n",
    "print(\"Number of vowels:\", vowel_count)"
   ]
  },
  {
   "cell_type": "code",
   "execution_count": 12,
   "id": "b1b85c72-1997-4cf1-a801-2d9307156a50",
   "metadata": {},
   "outputs": [],
   "source": [
    "Q6. Given a string, reverse the order of characters using string slicing and\n",
    "print the reversed string."
   ]
  },
  {
   "cell_type": "code",
   "execution_count": 13,
   "id": "f02dd665-a53b-4928-ae41-a7f18fb80bd5",
   "metadata": {},
   "outputs": [
    {
     "name": "stdout",
     "output_type": "stream",
     "text": [
      "!dlroW ,olleH\n"
     ]
    }
   ],
   "source": [
    "# Define the input string.\n",
    "input_string = \"Hello, World!\"\n",
    "\n",
    "# Use string slicing to reverse the input string.\n",
    "reversed_string = input_string[::-1]\n",
    "\n",
    "# Print the reversed string.\n",
    "print(reversed_string)"
   ]
  },
  {
   "cell_type": "code",
   "execution_count": 14,
   "id": "3279be23-e69e-49f1-9a5a-33feb29843b0",
   "metadata": {},
   "outputs": [],
   "source": [
    "Q7. Write a program that takes a string as input and checks if it is a\n",
    "palindrome (reads the same forwards and backwards)."
   ]
  },
  {
   "cell_type": "code",
   "execution_count": null,
   "id": "268965e7-2df6-422d-8342-869dd24d4650",
   "metadata": {},
   "outputs": [],
   "source": [
    "# Prompt the user to enter a string.\n",
    "user_input = input(\"Enter a string: \")\n",
    "\n",
    "# Remove spaces from the input string and convert it to lowercase.\n",
    "cleaned_input = user_input.replace(\" \", \"\").lower()\n",
    "\n",
    "# Reverse the cleaned input string using slicing.\n",
    "reversed_input = cleaned_input[::-1]\n",
    "\n",
    "# Check if the cleaned input string is the same as its reverse.\n",
    "if cleaned_input == reversed_input:\n",
    "    print(\"The string is a palindrome.\")\n",
    "else:\n",
    "    print(\"The string is not a palindrome.\")\n"
   ]
  },
  {
   "cell_type": "code",
   "execution_count": null,
   "id": "038533d5-4666-4cc9-afda-1bcb2b4941aa",
   "metadata": {},
   "outputs": [],
   "source": []
  }
 ],
 "metadata": {
  "kernelspec": {
   "display_name": "Python 3 (ipykernel)",
   "language": "python",
   "name": "python3"
  },
  "language_info": {
   "codemirror_mode": {
    "name": "ipython",
    "version": 3
   },
   "file_extension": ".py",
   "mimetype": "text/x-python",
   "name": "python",
   "nbconvert_exporter": "python",
   "pygments_lexer": "ipython3",
   "version": "3.10.6"
  }
 },
 "nbformat": 4,
 "nbformat_minor": 5
}
